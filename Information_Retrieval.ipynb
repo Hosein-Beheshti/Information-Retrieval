{
 "metadata": {
  "language_info": {
   "codemirror_mode": {
    "name": "ipython",
    "version": 3
   },
   "file_extension": ".py",
   "mimetype": "text/x-python",
   "name": "python",
   "nbconvert_exporter": "python",
   "pygments_lexer": "ipython3",
   "version": "3.8.3"
  },
  "orig_nbformat": 2,
  "kernelspec": {
   "name": "python383jvsc74a57bd07ec3019a7cb8f5739f8b27d55fc304c51580b268fd2b34191f81e31e11772118",
   "display_name": "Python 3.8.3 64-bit"
  }
 },
 "nbformat": 4,
 "nbformat_minor": 2,
 "cells": [
  {
   "source": [
    "import pandas as pd\n",
    "import numpy as np\n",
    "import re\n",
    "from re import search\n",
    "import codecs\n",
    "import sys\n",
    "import string\n",
    "import math\n",
    "import heapq\n"
   ],
   "cell_type": "code",
   "metadata": {},
   "execution_count": 163,
   "outputs": []
  },
  {
   "cell_type": "code",
   "execution_count": 212,
   "metadata": {},
   "outputs": [],
   "source": [
    "stop_words = []\n",
    "prefixes = []\n",
    "postfixes = []\n",
    "verb_roots = []\n",
    "common_words = []\n",
    "plural_singular = []\n",
    "\n",
    "\n",
    "def read_dataset(path, name):\n",
    "    df = pd.read_excel(path + name)\n",
    "    return df\n",
    "\n",
    "def read_files():\n",
    "    path = 'files/'\n",
    "\n",
    "    #stop_words\n",
    "    name = 'stop_words.txt'\n",
    "    f = open(path + name, 'r', encoding='utf-8')\n",
    "    Lines = f.read().splitlines()\n",
    "    # Strips the newline character\n",
    "    for line in Lines:\n",
    "        stop_words.append(line)\n",
    "    f.close()\n",
    "\n",
    "    #prefixes\n",
    "    name = 'prefixes.txt'\n",
    "    f = open(path + name, 'r', encoding='utf-8')\n",
    "    Lines = f.read().splitlines()\n",
    "    # Strips the newline character\n",
    "    for line in Lines:\n",
    "        prefixes.append(line)\n",
    "    f.close()\n",
    "\n",
    "    #postfixes\n",
    "    name = 'postfixes.txt'\n",
    "    f = open(path + name, 'r', encoding='utf-8')\n",
    "    Lines = f.read().splitlines()\n",
    "    # Strips the newline character\n",
    "    for line in Lines:\n",
    "        postfixes.append(line)\n",
    "    f.close()\n",
    "\n",
    "    # verb_roots\n",
    "    name = 'verb.txt'\n",
    "    f = open(path + name, 'r', encoding='utf-8')\n",
    "    Lines = f.read().splitlines()\n",
    "    count = 0\n",
    "    # Strips the newline character\n",
    "    for line in Lines:\n",
    "        line = line.split('-')\n",
    "        verb_roots.append(line)\n",
    "    f.close()\n",
    "\n",
    "    #common_words\n",
    "    name = 'common_words.txt'\n",
    "    f = open(path + name, 'r', encoding='utf-8')\n",
    "    Lines = f.read().splitlines()\n",
    "    # Strips the newline character\n",
    "    for line in Lines:\n",
    "        common_words.append(line)\n",
    "    f.close()\n",
    "\n",
    "    #plural_singular\n",
    "    name = 'plural_singular.txt'\n",
    "    f = open(path + name, 'r', encoding='utf-8')\n",
    "    Lines = f.read().splitlines()\n",
    "    count = 0\n",
    "    # Strips the newline character\n",
    "    for line in Lines:\n",
    "        line = line.split('-')\n",
    "        plural_singular.append(line)\n",
    "    f.close()\n",
    "\n",
    "def delete_punctuations(doc):\n",
    "    punctuations = '،:؛؟!»«()[]\"*,{.}@!?/'\n",
    "    edited_doc = doc.translate(str.maketrans('', '', punctuations))\n",
    "    edited_doc = doc.translate(str.maketrans('', '', string.punctuation))\n",
    "    \n",
    "    return edited_doc\n",
    "\n",
    "def delete_stopWords(doc):\n",
    "    edited_doc = doc\n",
    "    for s in stop_words:\n",
    "        my_regex = r\"\\b\"+s+r\"\\b\"\n",
    "        edited_doc = re.sub(my_regex , \"\", edited_doc)\n",
    "    return edited_doc\n",
    "\n",
    "def delete_highFrequencyWords(inverted_indexes):\n",
    "    df_temp = df.copy()\n",
    "    for i in inverted_indexes:\n",
    "        if len(i[1])/len(df_temp) > 0.8:\n",
    "            inverted_indexes.remove(i)\n",
    "    return inverted_indexes\n",
    "\n",
    "def delete_postfixes(doc):\n",
    "    edited_doc = doc\n",
    "    for p in postfixes:\n",
    "        my_regex = p + r\"\\b\"\n",
    "        edited_doc = re.sub(my_regex , \"\", edited_doc)\n",
    "    return edited_doc\n",
    "\n",
    "def delete_prefixes(doc):\n",
    "    edited_doc = doc\n",
    "    for p in postfixes:\n",
    "        my_regex = r\"\\b\" + p\n",
    "        edited_doc = re.sub(my_regex , \"\", edited_doc)\n",
    "    return edited_doc\n",
    "\n",
    "def replaceWithRoot(tokens):   \n",
    "    for i in range(0, len(tokens)):\n",
    "        for root in verb_roots:\n",
    "            if search(root[0], tokens[i]) or search(root[1], tokens[i]):\n",
    "                common = False\n",
    "                for c in common_words:\n",
    "                    if c == tokens[i]:\n",
    "                        common = True\n",
    "                        # print(\"common\")\n",
    "                        break\n",
    "                if common == False:\n",
    "                    # print(\"root\")\n",
    "                    tokens[i] = tokens[i].replace(tokens[i], root[2])\n",
    "\n",
    "    return tokens\n",
    "\n",
    "def replaceArabicWords(doc):\n",
    "    doc = doc.replace('ك', 'ک')\n",
    "    doc = doc.replace('ئ', 'ی')\n",
    "    doc = doc.replace('ي', 'ی')\n",
    "    doc = doc.replace('ؤ', 'و')\n",
    "    doc = doc.replace('هٔ', 'ه')\n",
    "    doc = doc.replace('ة', 'ه')\n",
    "    doc = doc.replace('آ', 'ا')\n",
    "    doc = doc.replace('أ', 'ا')\n",
    "    doc = doc.replace('إ', 'ا')\n",
    "    return doc\n",
    "\n",
    "def pluralToSingular(tokens):\n",
    "    for i in range(0, len(tokens)):\n",
    "        for ps in plural_singular:\n",
    "            if search(ps[0], tokens[i]):\n",
    "                tokens[i] = tokens[i].replace(tokens[i], ps[1])\n",
    "    return tokens\n",
    "\n",
    "def tokenize(df):\n",
    "    content = df.content\n",
    "\n",
    "    tokens = []\n",
    "    for i in range(0, content.size):\n",
    "        doc = content[i]\n",
    "        # 68000 tokens\n",
    "        doc = delete_punctuations(doc)\n",
    "        # 50000 tokens\n",
    "        doc = delete_stopWords(doc)\n",
    "\n",
    "        doc = replaceArabicWords(doc)\n",
    "\n",
    "        doc = delete_postfixes(doc)\n",
    "\n",
    "        doc = delete_prefixes(doc)\n",
    "        \n",
    "        tokenized_doc = doc.split()\n",
    "        tokenized_doc = replaceWithRoot(tokenized_doc)\n",
    "        tokenized_doc = pluralToSingular(tokenized_doc)\n",
    "\n",
    "        for token in tokenized_doc:\n",
    "            temp = []\n",
    "            temp.append(token)\n",
    "            temp.append(df.id[i])\n",
    "            tokens.append(temp)\n",
    "    tokens.sort()\n",
    "    return tokens\n",
    "\n",
    "def create_inverted_indexes(tokens):\n",
    "    inverted_indexes = []\n",
    "    doc_temp = []\n",
    "    token_temp = \"\"\n",
    "    for token in tokens:\n",
    "        if token[0] == token_temp:\n",
    "            doc_temp.append(token[1])\n",
    "        else:\n",
    "            temp = []\n",
    "            temp.append(token_temp)\n",
    "\n",
    "            (unique, counts) = np.unique(doc_temp, return_counts=True)\n",
    "            frequencies = np.asarray((unique, counts)).T\n",
    "            \n",
    "            temp.append(frequencies)\n",
    "            inverted_indexes.append(temp)\n",
    "            doc_temp = []\n",
    "\n",
    "        token_temp = token[0]\n",
    "        # if len(doc_temp) > 0 and token[1] != doc_temp[-1]:\n",
    "        doc_temp.append(token[1])\n",
    "    \n",
    "    inverted_indexes = delete_highFrequencyWords(inverted_indexes)\n",
    "    return inverted_indexes\n",
    "\n",
    "def search_token(inverted_indexes, token_name):\n",
    "    for token in inverted_indexes:\n",
    "        if token[0] == token_name:\n",
    "            return token[1]\n",
    "    print(\"this token not exist in our database\")\n",
    "\n",
    "def print_res(df, res):\n",
    "    p_res = pd.DataFrame()\n",
    "\n",
    "    p_res = pd.merge(df, res, on=['id'], how='inner')\n",
    "    our_res = p_res[['id', 'rank', 'url']]\n",
    "    our_res = our_res.sort_values([\"rank\"], ascending=False)\n",
    "\n",
    "    print(our_res)\n",
    "    \n",
    "\n",
    "def query_processing(df, inverted_indexes, query):\n",
    "    res = []\n",
    "    docs_id = pd.DataFrame()\n",
    "\n",
    "\n",
    "    query = delete_punctuations(query)\n",
    "    query = delete_stopWords(query)\n",
    "    query = delete_postfixes(query)\n",
    "    query = delete_prefixes(query)\n",
    "    query = replaceArabicWords(query)\n",
    "\n",
    "    tokenized_query = query.split()\n",
    "    tokenized_query = replaceWithRoot(tokenized_query)\n",
    "    tokenized_query = pluralToSingular(tokenized_query)\n",
    "\n",
    "    if len(tokenized_query) == 0:\n",
    "        print(\"It looks like there aren't many great matches for your search\")\n",
    "        return\n",
    "\n",
    "\n",
    "    for i in range (0 ,len(tokenized_query)):\n",
    "        temp_docs_id = pd.DataFrame(search_token(inverted_indexes, tokenized_query[i]))\n",
    "        docs_id = pd.DataFrame(docs_id.append(temp_docs_id))\n",
    "\n",
    "\n",
    "    docs_id = docs_id[0].value_counts().reset_index()\n",
    "    docs_id.columns = ['id', 'rank']\n",
    "    print_res(df, docs_id)\n",
    "\n",
    "\n",
    "\n",
    "\n",
    "\n",
    "def ranked_search(df, inverted_indexes, query):\n",
    "    res = []\n",
    "    docs_id = pd.DataFrame()\n",
    "\n",
    "\n",
    "    query = delete_punctuations(query)\n",
    "    query = delete_stopWords(query)\n",
    "    query = delete_postfixes(query)\n",
    "    query = delete_prefixes(query)\n",
    "    query = replaceArabicWords(query)\n",
    "\n",
    "    tokenized_query = query.split()\n",
    "    tokenized_query = replaceWithRoot(tokenized_query)\n",
    "    tokenized_query = pluralToSingular(tokenized_query)\n",
    "\n",
    "    if len(tokenized_query) == 0:\n",
    "        print(\"It looks like there aren't many great matches for your search\")\n",
    "        return\n",
    "\n",
    "    (unique, counts) = np.unique(tokenized_query, return_counts=True)\n",
    "    tokenized_query = np.asarray((unique, counts)).T\n",
    "    print(tokenized_query)\n",
    "\n",
    "    doc_score = []\n",
    "    for i in range (0 ,len(tokenized_query)):\n",
    "        tf_query = 1 + math.log(int(tokenized_query[i][1]), 10)\n",
    "        print(tokenized_query[i][0])\n",
    "        docs = search_token(inverted_indexes, tokenized_query[i][0])\n",
    "        print(docs)\n",
    "        print(len(df)/len(docs))\n",
    "        idf = math.log(len(df)/len(docs), 10)\n",
    "        print(idf)\n",
    "        w_termInQuery = tf_query*idf\n",
    "        print(\"weight term in q: \", tf_query, idf, w_termInQuery)\n",
    "\n",
    "        for i in range(len(docs)):\n",
    "            temp = []\n",
    "            temp.append(docs[i][0])\n",
    "            tf_doc = 1 + math.log(int(docs[i][1]), 10)\n",
    "            w_doc = tf_doc*idf\n",
    "            temp.append(w_termInQuery*w_doc)\n",
    "            doc_score.append(temp)\n",
    "\n",
    "    doc_score.sort()\n",
    "    doc_score = pd.DataFrame(doc_score)\n",
    "    doc_score.columns = ['doc', 'score']\n",
    "    df_doc_score = doc_score.groupby([\"doc\"]).score.sum().reset_index()\n",
    "    print(df_doc_score)\n",
    "\n",
    "\n",
    "\n",
    "\n",
    "    #     # temp_docs_id = pd.DataFrame(search_token(inverted_indexes, tokenized_query[i]))\n",
    "    #     # docs_id = pd.DataFrame(docs_id.append(temp_docs_id))\n",
    "\n",
    "\n",
    "    # docs_id = docs_id[0].value_counts().reset_index()\n",
    "    # docs_id.columns = ['id', 'rank']\n",
    "    # print_res(df, docs_id)\n",
    "    \n",
    "\n",
    "    \n"
   ]
  },
  {
   "cell_type": "code",
   "execution_count": null,
   "metadata": {},
   "outputs": [],
   "source": [
    "df = read_dataset(\"datasets/\", \"IR_Spring2021_ph12_7k.xlsx\")\n",
    "read_files()"
   ]
  },
  {
   "cell_type": "code",
   "execution_count": null,
   "metadata": {
    "tags": []
   },
   "outputs": [],
   "source": [
    "tokens = tokenize(df)"
   ]
  },
  {
   "cell_type": "code",
   "execution_count": null,
   "metadata": {},
   "outputs": [],
   "source": [
    "inverted_indexes = create_inverted_indexes(tokens)"
   ]
  },
  {
   "cell_type": "code",
   "execution_count": 197,
   "metadata": {
    "tags": [
     "outputPrepend"
    ]
   },
   "outputs": [
    {
     "output_type": "stream",
     "name": "stdout",
     "text": [
      "  2]\n [5056    2]\n [5057    2]\n [5058    2]\n [5061    2]\n [5079    2]\n [5136   10]\n [5148    2]\n [5165    2]\n [5234    2]\n [5242    2]\n [5256    2]\n [5264    2]\n [5273    2]\n [5297    4]\n [5350    2]\n [5357    2]\n [5411    2]\n [5424    4]\n [5426    2]\n [5456    2]\n [5466    2]\n [5514   12]\n [5557    2]\n [5580    2]\n [5605    2]\n [5609    2]\n [5641    2]\n [5643    2]\n [5650    2]\n [5668    2]\n [5688    2]\n [5691    2]\n [5743    2]\n [5751    2]\n [5752    2]\n [5753    4]\n [5778    2]\n [5779    2]\n [5824    2]\n [5830    2]\n [5831    2]\n [5834    2]\n [5835    2]\n [5844    4]\n [5865    2]\n [5873    2]\n [5884    2]\n [5894    2]\n [5899    2]\n [5903    4]\n [5930    2]\n [5966    2]\n [5971    2]\n [5998    2]\n [6003    2]\n [6015    2]\n [6022    2]\n [6032    2]\n [6064    2]\n [6109    2]\n [6123    2]\n [6135    4]\n [6143    4]\n [6164    8]\n [6216    2]\n [6226    6]\n [6251    2]\n [6257    2]\n [6260    2]\n [6265    2]\n [6301    2]\n [6306    2]\n [6323    2]\n [6514    2]\n [6515    2]\n [6521    2]\n [6529    2]\n [6536    2]\n [6619    2]\n [6621    2]\n [6622    2]\n [6623    2]\n [6631    2]\n [6633    2]\n [6634    2]\n [6636    2]\n [6640    2]\n [6675    2]\n [6677    2]\n [6715    2]\n [6733    2]\n [6787    2]\n [6788    2]\n [6809    2]\n [6816   10]\n [6822   10]\n [6844    6]\n [6848    6]\n [6850    6]\n [6875    6]\n [6881    6]\n [6887    2]\n [6890    2]\n [6893   12]\n [6895   12]\n [6936    2]\n [6940    2]\n [6948    2]\n [6950    2]\n [6951    2]\n [6965    2]\n [6966    2]\n [6968    2]\n [6969    2]\n [6977    4]\n [6981    4]\n [6983    2]\n [6986    2]]\nاست؛اغاز\n[[2933    1]]\nاست؟\n[[ 110    1]\n [ 184    6]\n [ 263    2]\n [ 278    2]\n [ 650    2]\n [ 681    2]\n [1037    2]\n [1049    4]\n [1067    2]\n [1167    2]\n [1183    4]\n [1226    2]\n [1446    4]\n [1482   14]\n [1509    4]\n [1532    4]\n [1540    2]\n [1545    2]\n [1546    2]\n [1700    2]\n [1724    2]\n [1800    2]\n [1816    2]\n [1981    4]\n [2046    2]\n [2055    2]\n [2063    4]\n [2090    2]\n [2115    2]\n [2190    8]\n [2246    2]\n [2319    6]\n [2497   16]\n [2580    2]\n [2587    2]\n [2648    2]\n [2664    4]\n [2804    2]\n [2924    2]\n [3044    2]\n [3122    2]\n [3520    2]\n [3573    4]\n [3684    4]\n [3751    2]\n [3767    2]\n [3820    2]\n [3856    2]\n [3870    8]\n [4034    2]\n [4158    2]\n [4259    2]\n [4317    2]\n [4576    2]\n [4847    2]\n [4959    2]\n [5014    2]\n [5041    2]\n [5053    2]\n [5059    2]\n [5165    2]\n [5313    6]\n [5586    2]\n [5977    4]\n [5983    4]\n [6006    2]\n [6049    2]\n [6054    2]\n [6123    2]\n [6127    2]\n [6179    2]\n [6226    2]\n [6230    2]\n [6273    2]\n [6494    2]\n [6515    2]\n [6567    2]\n [6570    2]\n [6574    2]\n [6577    2]\n [6600    2]\n [6603    2]\n [6605    2]\n [6655    4]\n [6657    4]\n [6660    4]\n [6663    4]\n [6704    2]\n [6710    2]\n [6715    2]\n [6893    2]\n [6895    2]\n [6922    2]\n [6925    2]\n [6929    2]]\nاست؟httpswwwisnairnews98021507823\n[[4434    1]]\nاست؟httpswwwisnairnews98030401237D985DB8CD8B2D8A7D986D981D8B4D8A7D8B1D8AED988D986D8B7D8A8DB8CD8B9DB8CDA86D982D8AFD8B1D8A7D8B3D8AA\n[[6638    1]\n [6644    2]]\nاست؟»\n[[4668    1]]\nاست؟،\n[[6226    1]]\nاستا\n[[6118    3]]\nاستابلر\n[[ 165    3]\n [1270    2]]\nاستابلرالمان\n[[1352    1]]\nاستاتیرا\n[[1435    1]]\nاستاد\n[[ 160    1]\n [ 296    2]\n [ 530    2]\n [ 543    2]\n [ 871    2]\n [ 878    4]\n [ 883    4]\n [ 889    8]\n [ 894    2]\n [ 901    6]\n [ 904    2]\n [1056    4]\n [1061    2]\n [1068    2]\n [1087    2]\n [1237    6]\n [1246    2]\n [1296    2]\n [1345    2]\n [1380    2]\n [1449    2]\n [1503    6]\n [1643    2]\n [1692    2]\n [1737    2]\n [1779    2]\n [1785    8]\n [1789    2]\n [1824    8]\n [2033    2]\n [2150    2]\n [2155    8]\n [2169    4]\n [2298    2]\n [2301    2]\n [2631    6]\n [2693    8]\n [2705    2]\n [2707    2]\n [2759    2]\n [2785    8]\n [2820   10]\n [2988   12]\n [3015    2]\n [3035    2]\n [3159   28]\n [3260    6]\n [3802   10]\n [3846    4]\n [4384    2]\n [4735    2]\n [5053    2]\n [5136   22]\n [5420    8]\n [5424    2]\n [5451    4]\n [5459    2]\n [5501    6]\n [5522    2]\n [5523    2]\n [5600    2]\n [5602    2]\n [5758    2]\n [5766    2]\n [5937    2]\n [5963    2]\n [5994    2]\n [6009    8]\n [6017    8]\n [6182   10]\n [6212    2]\n [6307    2]\n [6396    2]\n [6622    2]\n [6623    2]\n [6638    2]\n [6644    2]\n [6787    6]\n [6789    2]\n [6795    2]\n [6800    2]\n [6873    2]\n [6879    2]\n [6922    2]\n [6925    2]\n [6929    2]\n [6942    8]\n [6945    8]\n [6977    2]\n [6981    2]\n [6989    2]\n [6992    2]]\nاستاد»،\n[[2643    1]]\nاستاد،\n[[1824    1]]\nاستادبزرگ\n[[788   1]\n [904   2]]\nاستادتمام\n[[5464    1]]\nاستادکار\n[[2298    1]]\nاستادکاران\n[[1844    3]]\nاستادی\n[[2934    1]\n [4852    2]\n [6212    2]\n [6942    2]\n [6945    2]]\nاستادیا\n[[5010    1]]\nاستادیار\n[[5616    5]\n [6718    2]\n [6722    2]]\nاستادیوم\n[[  20    3]\n [  34    2]\n [ 241    4]\n [ 682    2]\n [ 734    4]\n [ 744    2]\n [1344    2]\n [1374    2]\n [1406    4]\n [1582    2]\n [1613    4]\n [2443    2]\n [3211    2]\n [3362    4]\n [4364    6]\n [4519    2]]\nاستار\n[[709   5]]\nاستار،\n[[5925    1]\n [5928    2]]\nاستارا\n[[ 515    5]\n [ 912    2]\n [1347    2]\n [2655    2]\n [3792    2]\n [4422    2]\n [4793    2]\n [4796    2]]\nاستارا،\n[[1347    1]\n [6270    2]\n [6272    2]\n [6274    2]\n [6276    2]\n [6277    2]\n [6283    2]]\nاستارااردبیل\n[[3732    1]]\nاستاراخان\n[[1347    1]\n [3407    2]]\nاستاراخان؛\n[[3792    1]]\nاستارارشت\n[[4793    1]]\nاستارت\n[[ 103    1]\n [ 157    2]\n [ 168    2]\n [ 171    4]\n [ 228    2]\n [ 238    2]\n [ 290    2]\n [ 434    2]\n [ 438    2]\n [ 446    2]\n [ 498    2]\n [ 573    2]\n [ 580    2]\n [ 597    2]\n [ 928    2]\n [ 934    2]\n [1136    4]\n [1256    2]\n [1910    2]\n [2431    4]\n [3362    2]\n [3592    2]\n [3815    2]\n [3958    2]\n [3989    2]\n [4685   14]\n [5098    4]\n [5751    2]\n [6634    2]\n [6636    2]\n [6640    2]]\nاستارتاپ\n[[3296   11]\n [3381    2]\n [3606   14]\n [3701   18]\n [4307   12]\n [4685    8]\n [5527   12]\n [5827   14]]\nاستارتاپ،\n[[3296    1]\n [5527    2]]\nاستارتاپشان\n[[4307    1]]\nاستارتاپم\n[[3606    1]\n [5827    2]]\nاستارتاپی\n[[3296    1]\n [4307    2]\n [5123    2]\n [5527    2]]\nاستارتاپ‌\n[[ 629    1]\n [2665    2]\n [3296   12]\n [3359    2]\n [3636    2]\n [3701    2]\n [3772    2]\n [3815    2]\n [4307    4]\n [4514    4]\n [4685    2]\n [4958    4]\n [5123    2]\n [5527   12]]\nاستارتاپ‌،\n[[4475    1]\n [4958    2]\n [5219    2]]\nاستارتاک\n[[3815    1]]\nاستارتاکاستارت\n[[3815    1]]\nاستارتی\n[[438   1]]\nاستارت‌اپ\n[[4157    1]\n [4685    2]]\nاستارت‌اپ،\n[[4528    1]\n [6635    2]\n [6637    2]\n [6641    2]]\nاستارت‌اپی\n[[4157    5]\n [4685    2]]\nاستارت‌اپی،\n[[4157    1]]\nاستارت‌اپ‌\n[[3241    1]\n [3690    2]\n [4154    6]\n [4157    4]\n [4528    2]\n [4780    2]\n [4840    4]\n [4923    2]\n [4983    2]\n [6635    2]\n [6637    2]\n [6641    2]]\nاستارت‌اپ‌ست\n[[3387    1]]\nاستارت‌اپ‌یی\n[[3377    1]\n [4780    2]]\nاستارز\n[[4157    3]]\nاستارپوزال\n[[3815    3]]\nاستارپوزالاستارتاپ\n[[3815    1]]\nاستاز\n[[ 378    1]\n [6325    2]]\nاستاسامی\n[[523   1]]\nاستاقدام\n[[867   1]]\nاستال\n[[1136    1]]\nاستالبته\n[[2838    1]\n [4089    2]]\nاستاما\n[[1816    1]]\nاستاما،\n[[3519    1]]\nاستامریکایی‌\n[[6871    1]\n [6876    2]]\nاستامپ\n[[5663    1]]\nاستامینوفن\n[[6049    1]\n [6948    2]\n [6951    2]]\nاستان\n[[  25    1]\n [  38    2]\n [  45    2]\n ...\n [6986    2]\n [6989    2]\n [6992    2]]\nاستان­\n[[867   7]]\nاستان­؛\n[[867   1]]\nاستان»،\n[[5025    1]]\nاستان،\n[[  57    3]\n [ 176    2]\n [ 238    4]\n [ 277    2]\n [ 340    2]\n [ 515    2]\n [ 594    2]\n [ 603    2]\n [ 992    2]\n [1079    4]\n [1366    2]\n [1675    2]\n [1680    4]\n [1733    2]\n [1736    2]\n [1958    2]\n [1959    2]\n [2005    2]\n [2007    2]\n [2014    2]\n [2022    2]\n [2037    2]\n [2124    4]\n [2300    2]\n [2518    2]\n [2543    2]\n [2573    2]\n [2646    2]\n [2665    2]\n [2676    2]\n [2681    2]\n [2695    2]\n [2772    2]\n [2775    2]\n [2808    2]\n [3061    2]\n [3082    2]\n [3153    2]\n [3173    4]\n [3223    2]\n [3516    2]\n [3573    2]\n [3731    2]\n [3822    2]\n [3840    2]\n [3954    2]\n [4001    2]\n [4048    2]\n [4069    2]\n [4198    4]\n [4344    4]\n [4347    2]\n [4390    2]\n [4391    2]\n [4405    2]\n [4417    2]\n [4418    2]\n [4419    2]\n [4455    2]\n [4460    2]\n [4474    2]\n [4475    6]\n [4504    2]\n [4519    4]\n [4524    2]\n [4525    4]\n [4527    2]\n [4530    2]\n [4537    2]\n [4575    2]\n [4581    2]\n [4591    2]\n [4618    2]\n [4628    4]\n [4673    2]\n [4675    2]\n [4721    2]\n [4722    2]\n [4739    4]\n [4741    2]\n [4742    6]\n [4803    2]\n [4817    2]\n [4818    2]\n [4835    2]\n [4866    2]\n [4896    2]\n [4903    6]\n [4935    4]\n [4964    2]\n [4998    2]\n [5013    2]\n [5118    2]\n [5121    2]\n [5125    2]\n [5127    2]\n [5320    2]\n [5423    2]\n [5580    2]\n [5584    2]\n [5611    2]\n [5613    2]\n [5618    2]\n [5619    2]\n [5640    2]\n [5687    4]\n [5690    4]\n [5694    2]\n [5744    2]\n [5846    2]\n [5872    2]\n [5876    2]\n [5885    2]\n [5908    2]\n [5912    2]\n [5917    2]\n [6014    4]\n [6021    4]\n [6052    2]\n [6133    2]\n [6178    4]\n [6408    2]\n [6426    2]\n [6433    2]\n [6440    2]\n [6461    2]\n [6480    2]\n [6622    2]\n [6623    2]\n [6634    4]\n [6636    4]\n [6640    4]\n [6788    2]]\nاستان،‌\n[[4882    1]]\nاستان؛\n[[867   1]]\nاستانازلول،\n[[1430    1]]\nاستانبول\n[[ 641    1]\n [ 887    2]\n [ 909    2]\n [ 913    2]\n [1019    2]\n [1025    2]\n [1026    2]\n [1350    2]\n [2666    2]\n [2933    2]\n [3041    4]\n [3833    6]\n [5358    2]\n [6321    2]\n [6998    2]]\nاستانبولقلب\n[[3041    1]]\nاستاندار\n[[  57    7]\n [ 110    2]\n [ 145    4]\n [ 238    6]\n [ 341    2]\n [ 394    2]\n [ 395    2]\n [ 444    2]\n [ 502    2]\n [ 590    4]\n [ 603    2]\n [ 657   14]\n [ 712    2]\n [ 747    2]\n [ 763    2]\n [ 835    4]\n [ 960    2]\n [1302    2]\n [1366    2]\n [1399    2]\n [1482    2]\n [1511    2]\n [1563    2]\n [1628    2]\n [1757    2]\n [1778    8]\n [1845    2]\n [1882    2]\n [1982    4]\n [2011    4]\n [2014   16]\n [2022    6]\n [2038    4]\n [2099   10]\n [2114    4]\n [2121    4]\n [2128    2]\n [2146    4]\n [2163    4]\n [2195    2]\n [2196    2]\n [2243    6]\n [2300    4]\n [2506    2]\n [2510    4]\n [2513    4]\n [2522    2]\n [2529    4]\n [2573    2]\n [2595    4]\n [2601    6]\n [2686    2]\n [2700    6]\n [2753    2]\n [2761    4]\n [2768    2]\n [2780    2]\n [2837    2]\n [2869    4]\n [2912    2]\n [2916    2]\n [2922    2]\n [2927    4]\n [2942    2]\n [2967    4]\n [2972    2]\n [3005    2]\n [3066    2]\n [3079    2]\n [3125    6]\n [3149    2]\n [3164    2]\n [3204    2]\n [3223    2]\n [3287    2]\n [3329    2]\n [3441    4]\n [3477    2]\n [3479    2]\n [3482    2]\n [3516    2]\n [3524    2]\n [3539    4]\n [3662   16]\n [3687    4]\n [3731    6]\n [3748    2]\n [3776    4]\n [3791    4]\n [3792   10]\n [3808    2]\n [3809    4]\n [3818    4]\n [3825    6]\n [3848    2]\n [3867    2]\n [3879    2]\n [3880    2]\n [3900    4]\n [3903    2]\n [3922    2]\n [3931    2]\n [3934    4]\n [3944    2]\n [4001    4]\n [4037    2]\n [4066    2]\n [4069    4]\n [4094    4]\n [4099    4]\n [4172    8]\n [4235   14]\n [4271    2]\n [4295    6]\n [4296    4]\n [4323    6]\n [4337    4]\n [4341    4]\n [4344   14]\n [4358    6]\n [4382    6]\n [4395    6]\n [4398    4]\n [4405    6]\n [4411    2]\n [4415    4]\n [4417    4]\n [4422    8]\n [4428    2]\n [4439    2]\n [4445    2]\n [4455    4]\n [4463    2]\n [4468    2]\n [4470    4]\n [4474    2]\n [4475   10]\n [4479    2]\n [4494    2]\n [4503    4]\n [4519    2]\n [4526    4]\n [4530    4]\n [4533    2]\n [4539    2]\n [4548   12]\n [4554    8]\n [4557    6]\n [4560    4]\n [4568    6]\n [4573    4]\n [4581    2]\n [4621    2]\n [4622    2]\n [4626    2]\n [4628    4]\n [4630    2]\n [4666    6]\n [4675    4]\n [4678    2]\n [4688    2]\n [4701    2]\n [4707    4]\n [4709    8]\n [4713    6]\n [4720    2]\n [4721    8]\n [4722    2]\n [4740    2]\n [4741    4]\n [4742    8]\n [4765    6]\n [4785    4]\n [4794    2]\n [4797   14]\n [4799    2]\n [4813    4]\n [4818    2]\n [4851    2]\n [4854    2]\n [4861    4]\n [4872    2]\n [4873    2]\n [4878    2]\n [4880    2]\n [4884    6]\n [4885    2]\n [4890    2]\n [4893    2]\n [4900    2]\n [4913    2]\n [4914   12]\n [4935    2]\n [4939    4]\n [4942    6]\n [4982    2]\n [5005    4]\n [5013    2]\n [5014    2]\n [5034    2]\n [5060    8]\n [5074    2]\n [5076    6]\n [5138    2]\n [5182    2]\n [5183    2]\n [5206    2]\n [5223    6]\n [5300   14]\n [5310    2]\n [5494    2]\n [5640    6]\n [5687    2]\n [5690    2]\n [5694    6]\n [5722    2]\n [5724    2]\n [5730    2]\n [5743    2]\n [5757    2]\n [5765    2]\n [5770    6]\n [5829    8]\n [5898    2]\n [5948    4]\n [5999    4]\n [6009    2]\n [6014    2]\n [6017    2]\n [6021    2]\n [6026   10]\n [6057    2]\n [6066    2]\n [6071    2]\n [6101    2]\n [6103    4]\n [6111    4]\n [6133    4]\n [6141    2]\n [6148    2]\n [6151    6]\n [6368    4]\n [6408    2]\n [6510    2]\n [6813    6]\n [6819    6]\n [6845    6]\n [6849    6]\n [6851    6]\n [6878    2]\n [6882    2]\n [6884    2]\n [6885    2]\n [6888    2]]\nاستاندار،\n[[ 515    1]\n [1488    2]\n [2567    2]\n [2694    2]\n [2753    2]\n [2754    4]\n [3223    2]\n [4344    2]\n [4411    2]\n [4647    2]\n [4678    2]\n [6156    2]\n [6160    2]]\nاستاندار؛\n[[3900    1]]\nاستانداران\n[[1680    3]\n [1729    4]\n [1745    2]\n [1841    2]\n [1868    4]\n [1891    2]\n [2049    2]\n [2146    2]\n [2149    2]\n [2224    2]\n [2272    2]\n [2521    8]\n [2940    2]\n [2942    4]\n [3173    4]\n [3184    4]\n [3792    4]\n [3808    4]\n [3965    4]\n [4148    2]\n [4516    2]\n [4750    4]\n [4794    6]\n [4914    8]\n [5033    2]\n [5034    4]\n [5231    2]\n [5241    2]\n [5300    2]\n [5487    2]\n [5564    4]\n [5569    4]\n [5757    2]\n [5765    2]\n [5878    2]\n [6154    2]]\nاستانداران،\n[[1733    1]\n [5300    2]\n [5423    2]\n [5564    2]\n [5569    2]]\nاستاندارد\n[[  34    3]\n [  71    2]\n [ 110    2]\n [ 291    2]\n [ 628    8]\n [ 722    4]\n [ 753    2]\n [ 899    4]\n [ 908    2]\n [1053    4]\n [1057    6]\n [1067    2]\n [1229    2]\n [1231    2]\n [1232    2]\n [1246    4]\n [1267    2]\n [1361    2]\n [1419    2]\n [1511    2]\n [1521    2]\n [1641   12]\n [1680    2]\n [1746    2]\n [1958    2]\n [2055    2]\n [2098    2]\n [2152    2]\n [2262    2]\n [2316    2]\n [2620    4]\n [2680    2]\n [2694    2]\n [2757    2]\n [2783    2]\n [2937    2]\n [3083    6]\n [3120    2]\n [3173    2]\n [3179    2]\n [3191    2]\n [3211    4]\n [3249    2]\n [3264    2]\n [3336    2]\n [3358    2]\n [3364    2]\n [3372    8]\n [3378    6]\n [3417    8]\n [3435    6]\n [3436    2]\n [3476   32]\n [3482    2]\n [3583    4]\n [3593    2]\n [3601    2]\n [3623    4]\n [3721    2]\n [3752    2]\n [3847   14]\n [3948    2]\n [4028    2]\n [4038    8]\n [4041    2]\n [4053    6]\n [4057    2]\n [4069    2]\n [4094   24]\n [4099    8]\n [4123    4]\n [4154    2]\n [4200    2]\n [4209    2]\n [4255    2]\n [4317    4]\n [4344    2]\n [4360    2]\n [4376    2]\n [4394    8]\n [4402   14]\n [4421    4]\n [4430   14]\n [4440    2]\n [4523    4]\n [4530    2]\n [4533    2]\n [4571    2]\n [4596    2]\n [4601    8]\n [4627    2]\n [4641    2]\n [4646    2]\n [4647    2]\n [4713   80]\n [4726    4]\n [4764    2]\n [4771   10]\n [4792    2]\n [4860    2]\n [4861    2]\n [4873    2]\n [4891    2]\n [4893    6]\n [4926    2]\n [4964    2]\n [4973    2]\n [4976    2]\n [4983    2]\n [4998    2]\n [5014   96]\n [5025    2]\n [5096    2]\n [5133   20]\n [5198    2]\n [5230   24]\n [5231   16]\n [5297    4]\n [5310    2]\n [5317    2]\n [5430    4]\n [5433    6]\n [5438    4]\n [5446    2]\n [5459    2]\n [5472    6]\n [5476    2]\n [5493    2]\n [5537    4]\n [5564    2]\n [5566    4]\n [5569    2]\n [5571    4]\n [5610    2]\n [5632    2]\n [5646    2]\n [5652    2]\n [5658    2]\n [5674    2]\n [5803    2]\n [5823    2]\n [5884    2]\n [6087   14]\n [6121    2]\n [6150    2]\n [6164    2]\n [6222    2]\n [6230    4]\n [6278    2]\n [6281    6]\n [6285    2]\n [6286    6]\n [6353    2]\n [6385    4]\n [6449    2]\n [6455    4]\n [6461    2]\n [6479    2]\n [6538    2]\n [6543    2]\n [6631    2]\n [6633    2]\n [6665    2]\n [6667    2]\n [6669    2]\n [6672    2]\n [6674    2]\n [6697    2]\n [6701    2]\n [6704    4]\n [6707    2]\n [6710    4]\n [6712    2]\n [6713    2]\n [6714    2]\n [6725    2]\n [6728    2]\n [6731    2]\n [6735    2]\n [6750    2]\n [6752    2]\n [6754    2]\n [6786    4]\n [6790    2]\n [6791    2]\n [6792    4]\n [6796    2]\n [6797    2]\n [6806    2]\n [6812    2]\n [6918    4]\n [6926    2]\n [6931    2]\n [6935    2]\n [6936    2]\n [6940    2]\n [6977    2]\n [6981    2]]\nاستانداردhttpswwwisnairnews99093023535D8B1D988D8BAD986D8B3D987DAA9D8A7D8B1D987D8AAD8A8D984DB8CD8BAD8B4D8AFD987D8A7D8B2D8B5D8AFD8A7D988D8B3DB8CD985D8A7D985D8BAD8A7DB8CD8B1D8A8D8A7D8A7D8B3D8AAD8A7D986D8AFD8A7D8B1D8AFD8A7D8B3D8AA\n[[4053    1]]\nاستاندارد،\n[[1057    1]\n [2228    2]\n [2543    4]\n [3364    2]\n [3378    2]\n [3435    2]\n [3909    2]\n [3915    2]\n [4094    6]\n [4402    2]\n [4642    2]\n [4713    2]\n [4998    2]\n [5014    2]\n [5230    2]\n [5438    2]]\nاستانداردسازی\n[[ 227    1]\n [3633    2]\n [4556    2]\n [4639    2]\n [4713    2]]\nاستانداردسازی،\n[[6887    1]\n [6890    2]]\nاستانداردش\n[[5014    1]]\nاستانداردهایی\n[[4936    1]\n [5438    2]]\nاستانداردی\n[[1414    1]\n [5014    2]\n [5459    2]\n [6051    2]]\nاستاندارقم\n[[5206    1]]\nاستانداری\n[[  72    5]\n [ 183    4]\n [ 382    2]\n [ 590    2]\n [ 711    2]\n [ 833    4]\n [ 942    2]\n [1399    2]\n [1579    2]\n [1778    2]\n [1840    2]\n [2116    2]\n [2136   10]\n [2166    4]\n [2205    2]\n [2300   12]\n [2330    4]\n [2393    2]\n [2398    2]\n [2489    2]\n [2595    4]\n [2601    2]\n [2681    2]\n [2754    2]\n [2796    2]\n [2803    4]\n [2887    2]\n [2895    2]\n [3120    2]\n [3124    8]\n [3150    4]\n [3188    8]\n [3734    2]\n [3792    6]\n [3808    2]\n [3822    8]\n [3867    2]\n [3900    2]\n [3917    6]\n [3924    2]\n [3952    2]\n [3955    2]\n [4001   12]\n [4039    2]\n [4130    2]\n [4162    2]\n [4271    2]\n [4296    2]\n [4333    4]\n [4380    2]\n [4390   14]\n [4417    2]\n [4454    2]\n [4455    4]\n [4462    2]\n [4463    4]\n [4480    2]\n [4544    2]\n [4548    2]\n [4554    2]\n [4568    4]\n [4581    2]\n [4591    2]\n [4639    6]\n [4675    6]\n [4688    2]\n [4741    8]\n [4742    2]\n [4779    4]\n [4797    2]\n [4818    6]\n [4827    2]\n [4861    2]\n [4888    2]\n [4893    2]\n [4903    2]\n [4904    2]\n [4914    2]\n [4931    2]\n [4977    4]\n [5074    2]\n [5141    2]\n [5206    2]\n [5241    2]\n [5322    2]\n [5343    2]\n [5487    2]\n [5694    2]\n [5732    2]\n [5898    2]\n [5929    2]\n [5935    2]\n [6009    4]\n [6017    4]\n [6178    2]\n [6366    2]\n [6368    2]\n [6370    2]\n [6426    4]\n [6433    4]\n [6440    4]\n [6606   10]\n [6607   10]\n [6813    2]\n [6819    2]\n [6856    2]\n [6858    2]\n [6989    2]\n [6992    2]]\nاستانداری،\n[[ 183    1]\n [2114    2]\n [2248    2]\n [2804    2]\n [2856    2]\n [3928    2]\n [4639    2]\n [4797    2]]\nاستاندارید\n[[5310    1]]\nاستانداری‌\n[[1841    1]\n [2810    2]\n [3080    2]\n [4820    2]]\nاستانداری‌،\n[[3364    1]]\nاستانش\n[[5448    1]\n [6494    2]]\nاستانم\n[[663   1]]\nاستانه\n[[  53    1]\n [  73    2]\n [ 200    2]\n [ 244    2]\n [ 289    2]\n [ 346    2]\n [ 384    2]\n [ 427    2]\n [ 463    2]\n [ 468    2]\n [ 514    2]\n [ 584    2]\n [ 775    2]\n [ 835    4]\n [ 858    2]\n [ 978    2]\n [ 996    2]\n [1037    2]\n [1038    2]\n [1039    2]\n [1113    2]\n [1185    2]\n [1196    2]\n [1240    2]\n [1307    2]\n [1323    2]\n [1339    2]\n [1601    2]\n [1610    2]\n [1778    2]\n [1785    2]\n [1995    4]\n [2024    2]\n [2039    4]\n [2066    4]\n [2241    2]\n [2370    2]\n [2444    2]\n [2475    2]\n [2483    2]\n [2562    2]\n [2588    2]\n [2676    2]\n [2706    2]\n [2772    4]\n [2791    2]\n [2804    2]\n [2871    2]\n [2872    2]\n [2879    2]\n [2987    2]\n [3037    2]\n [3101    4]\n [3139    2]\n [3140    4]\n [3141    4]\n [3150    2]\n [3157    2]\n [3241    2]\n [3276    2]\n [3350    2]\n [3506    2]\n [3750    4]\n [3802    2]\n [4154    2]\n [4317    2]\n [4339    2]\n [4618    2]\n [4628    4]\n [4685    2]\n [5372    2]\n [5414    2]\n [5433    4]\n [5472    2]\n [5547    2]\n [5693    2]\n [5843    2]\n [5925    2]\n [5928    2]\n [5992    2]\n [6009    2]\n [6017    2]\n [6051    2]\n [6191    2]\n [6254    2]\n [6260    2]\n [6296    2]\n [6304    2]\n [6400    2]\n [6404    2]\n [6407    2]\n [6410    2]\n [6412    2]\n [6415    2]\n [6418    2]\n [6517    4]\n [6524    4]\n [6537    4]\n [6542    4]\n [6548    4]\n [6553    4]\n [6622    6]\n [6623    6]\n [6638    2]\n [6644    2]\n [6666    2]\n [6668    2]\n [6669    2]\n [6670    2]\n [6672    2]\n [6674    2]\n [6816    2]\n [6822    2]]\nاستانه»\n[[2712    1]]\nاستانه،\n[[2712    1]]\nاستانهاست،\n[[5099    1]]\nاستانهاهمراه\n[[5853    1]]\nاستانهاو\n[[867   1]]\nاستانهایی\n[[4131    1]\n [5418    2]\n [5841    4]\n [5903    2]\n [5966    2]]\nاستانه‌ی\n[[4047    1]]\n"
     ]
    }
   ],
   "source": [
    "print(len(tokens))\n",
    "print(len(inverted_indexes))\n",
    "\n",
    "for i in range(5000, 5100):\n",
    "    print(inverted_indexes[i][0])\n",
    "    print(inverted_indexes[i][1])"
   ]
  },
  {
   "cell_type": "code",
   "execution_count": 126,
   "metadata": {},
   "outputs": [
    {
     "output_type": "stream",
     "name": "stdout",
     "text": [
      "this token not exist in our database\nNone\n"
     ]
    }
   ],
   "source": [
    "print(search_token(inverted_indexes, \"شد\"))"
   ]
  },
  {
   "cell_type": "code",
   "execution_count": 162,
   "metadata": {
    "tags": []
   },
   "outputs": [
    {
     "output_type": "stream",
     "name": "stdout",
     "text": [
      "[['حسین' '1']\n ['علی' '1']]\nحسین\n[[  20    3]\n [  30    2]\n [  31    2]\n [  33    4]\n [  37    4]\n [  67    2]\n [  69    2]\n [  71    2]\n [ 107    2]\n [ 185    2]\n [ 193    2]\n [ 205    2]\n [ 206    2]\n [ 213    2]\n [ 218    2]\n [ 219    2]\n [ 236    2]\n [ 262    2]\n [ 265    2]\n [ 267    2]\n [ 290    2]\n [ 314    2]\n [ 341    2]\n [ 358    4]\n [ 377    6]\n [ 383    2]\n [ 386    2]\n [ 412    2]\n [ 421    4]\n [ 433    2]\n [ 467    2]\n [ 477    2]\n [ 481    2]\n [ 490    4]\n [ 491    2]\n [ 507    2]\n [ 514    2]\n [ 518    2]\n [ 520    2]\n [ 523    6]\n [ 526    6]\n [ 529    2]\n [ 536    2]\n [ 537   14]\n [ 540    2]\n [ 541    8]\n [ 544   22]\n [ 571    8]\n [ 595    2]\n [ 602    6]\n [ 608    2]\n [ 624    4]\n [ 641    2]\n [ 657    2]\n [ 659   28]\n [ 666    2]\n [ 692    2]\n [ 743    6]\n [ 749   14]\n [ 752   38]\n [ 763    2]\n [ 764    4]\n [ 769    2]\n [ 771    2]\n [ 773    2]\n [ 774    2]\n [ 776    2]\n [ 777    2]\n [ 779    2]\n [ 812    2]\n [ 813    4]\n [ 824    2]\n [ 829    8]\n [ 834    2]\n [ 842    2]\n [ 846    8]\n [ 854    2]\n [ 903    2]\n [ 911    2]\n [ 922    2]\n [ 942    2]\n [ 950    8]\n [ 960    2]\n [ 997    2]\n [1002    8]\n [1011    4]\n [1037   10]\n [1041   10]\n [1058    8]\n [1059    2]\n [1062    2]\n [1064    6]\n [1067    2]\n [1082    4]\n [1083    2]\n [1084    2]\n [1101    6]\n [1104    2]\n [1125    2]\n [1127    2]\n [1149    2]\n [1152    2]\n [1153    2]\n [1158    2]\n [1167    6]\n [1177    8]\n [1186    2]\n [1189    4]\n [1247    4]\n [1261    2]\n [1270    2]\n [1293    2]\n [1300    2]\n [1307    4]\n [1310    2]\n [1328    2]\n [1338    2]\n [1352    2]\n [1364    2]\n [1365    2]\n [1367    2]\n [1408    4]\n [1409    4]\n [1411    2]\n [1412    2]\n [1416    2]\n [1418    6]\n [1427    4]\n [1445    2]\n [1493    4]\n [1496    2]\n [1533    6]\n [1543    4]\n [1551    2]\n [1578    2]\n [1590    2]\n [1592    2]\n [1612    2]\n [1615    2]\n [1626    4]\n [1628    2]\n [1635    4]\n [1655    2]\n [1659   10]\n [1673    2]\n [1744    2]\n [1765    2]\n [1771    4]\n [1806    4]\n [1807    4]\n [1812    2]\n [1819    2]\n [1821    2]\n [1850    2]\n [1857    2]\n [1866    4]\n [1870    4]\n [1890    2]\n [1896    2]\n [1899    2]\n [1910    2]\n [1912    2]\n [1977    2]\n [1984    2]\n [1989    2]\n [1995    6]\n [2000    2]\n [2003    2]\n [2004    2]\n [2005    2]\n [2011    2]\n [2013    2]\n [2014    2]\n [2024   10]\n [2034    2]\n [2035    2]\n [2050    2]\n [2057    2]\n [2105    2]\n [2115    2]\n [2122    2]\n [2131    2]\n [2153    2]\n [2183    2]\n [2206    2]\n [2215    2]\n [2255    4]\n [2260    2]\n [2273    2]\n [2277    2]\n [2283    2]\n [2304    2]\n [2312    2]\n [2319    2]\n [2320    2]\n [2328    6]\n [2338    2]\n [2357    4]\n [2360    2]\n [2366    2]\n [2401    2]\n [2415    2]\n [2416   10]\n [2426    2]\n [2456    2]\n [2468    2]\n [2511    2]\n [2573    4]\n [2592    2]\n [2594    2]\n [2637    2]\n [2655    2]\n [2661    2]\n [2676    2]\n [2677    2]\n [2689    2]\n [2693    2]\n [2704    2]\n [2733    2]\n [2736    2]\n [2748    2]\n [2757    2]\n [2796    2]\n [2830    2]\n [2857    2]\n [2887    2]\n [2906    2]\n [2908    2]\n [2916    2]\n [2922    2]\n [2925    2]\n [2939    2]\n [2944    6]\n [3011    2]\n [3019    2]\n [3039    2]\n [3048    2]\n [3085    2]\n [3093    2]\n [3097    6]\n [3144    2]\n [3157    4]\n [3202    2]\n [3216    2]\n [3239    2]\n [3351    2]\n [3398    2]\n [3428    2]\n [3429    2]\n [3436    2]\n [3437    2]\n [3443    2]\n [3555    2]\n [3574    2]\n [3578    2]\n [3581    2]\n [3588    2]\n [3605    2]\n [3647    2]\n [3679    2]\n [3748    2]\n [3814    2]\n [3902    2]\n [3930    2]\n [3958    2]\n [3971    2]\n [4013    2]\n [4023    2]\n [4055    2]\n [4090    2]\n [4102    2]\n [4140    2]\n [4143    2]\n [4149    2]\n [4201    2]\n [4207    2]\n [4229    2]\n [4295    2]\n [4296    2]\n [4301    2]\n [4303    2]\n [4319    2]\n [4325    2]\n [4337    4]\n [4357    2]\n [4384    2]\n [4444    2]\n [4518    2]\n [4530    2]\n [4533    2]\n [4568    2]\n [4573    4]\n [4618    2]\n [4622    2]\n [4629    2]\n [4665    4]\n [4711    2]\n [4728    2]\n [4746    2]\n [4756    2]\n [4764    2]\n [4803    4]\n [4818    2]\n [4984    2]\n [5053    2]\n [5134    2]\n [5191    2]\n [5309    2]\n [5368    2]\n [5393    2]\n [5441    2]\n [5454    2]\n [5484    2]\n [5517    4]\n [5521    2]\n [5547    2]\n [5615    2]\n [5622    2]\n [5668    2]\n [5896    2]\n [5917    2]\n [5922    2]\n [5942    2]\n [6073    4]\n [6076    4]\n [6097    2]\n [6106    2]\n [6212    2]\n [6290    4]\n [6441    4]\n [6448    2]\n [6608    2]\n [6610    2]\n [6622    2]\n [6623    2]\n [6643    2]\n [6648    2]\n [6650    2]\n [6653    2]\n [6666    2]\n [6668    2]\n [6669    2]\n [6670    2]\n [6672    2]\n [6674    2]\n [6676    2]\n [6679    2]\n [6719    2]\n [6767    2]\n [6773    2]\n [6779    2]\n [6825    2]\n [6828    2]\n [6831    2]\n [6835    2]\n [6878    2]\n [6882    2]\n [6884    2]\n [6885    2]\n [6888    2]\n [6922    2]\n [6925    2]\n [6926    2]\n [6929    2]\n [6931    2]\n [6935    2]\n [6989    2]\n [6992    2]]\n19.02173913043478\n1.279250221340739\nweight term in q:  1.0 1.279250221340739 1.279250221340739\nعلی\n[[   1    1]\n [  20    4]\n [  26    4]\n ...\n [6929    2]\n [6974    2]\n [6979    2]]\n10.043041606886657\n1.0018652619162474\nweight term in q:  1.0 1.0018652619162474 1.0018652619162474\n      doc     score\n0       1  1.003734\n1      20  4.025323\n2      26  1.608042\n3      27  1.608042\n4      30  2.129111\n..    ...       ...\n974  6935  2.129111\n975  6974  1.305888\n976  6979  1.305888\n977  6989  2.129111\n978  6992  2.129111\n\n[979 rows x 2 columns]\n"
     ]
    }
   ],
   "source": [
    "query = \"علی حسین\"\n",
    "# query_processing(df, inverted_indexes, query)\n",
    "\n",
    "ranked_search(df, inverted_indexes, query)\n"
   ]
  },
  {
   "cell_type": "code",
   "execution_count": null,
   "metadata": {
    "tags": []
   },
   "outputs": [],
   "source": [
    "tokens[2000]"
   ]
  },
  {
   "cell_type": "code",
   "execution_count": null,
   "metadata": {},
   "outputs": [],
   "source": [
    "create_inverted_indexes(tokens)"
   ]
  },
  {
   "cell_type": "code",
   "execution_count": null,
   "metadata": {},
   "outputs": [],
   "source": [
    "b = {'a','a','b'}\n",
    "print(b.count('a'))"
   ]
  },
  {
   "cell_type": "code",
   "execution_count": null,
   "metadata": {},
   "outputs": [],
   "source": [
    "docs = search_token(inverted_indexes, \"مسیح\")\n",
    "print(docs)\n",
    "idf = math.log(len(df)/len(docs), 10)\n",
    "print(idf)\n",
    "\n"
   ]
  },
  {
   "cell_type": "code",
   "execution_count": 196,
   "metadata": {},
   "outputs": [
    {
     "output_type": "stream",
     "name": "stdout",
     "text": [
      "[['3', 14], ['8', 12], ['9', 4]]\n"
     ]
    }
   ],
   "source": [
    "\n",
    "li1 = [['6', 1], ['9', 4], ['3', 14], ['8', 12]]\n",
    "# heapq._heapify_max(li1[0])\n",
    "# print(li1)\n",
    "\n",
    "hp = []\n",
    "for e in li1:\n",
    "    hp.append((e[1], e[0]))\n",
    "\n",
    "nlargest = heapq.nlargest(3, hp)\n",
    "k_high_ranked = []\n",
    "for i in nlargest:\n",
    "    k_high_ranked.append([i[1], i[0]])\n",
    "\n",
    "print(k_high_ranked)\n"
   ]
  },
  {
   "cell_type": "code",
   "execution_count": 228,
   "metadata": {},
   "outputs": [],
   "source": [
    "def calculate_tfidf(df, inverted_indexes):\n",
    "    weighted_inverted_index = inverted_indexes.copy()\n",
    "    len_df = len(df)\n",
    "    for i in range(3):\n",
    "        if len(weighted_inverted_index[i][1]) > 0:\n",
    "            print(weighted_inverted_index[i])\n",
    "            # print(len(inverted_indexes[i][1]))\n",
    "            idf = math.log(len_df/len(weighted_inverted_index[i][1]), 10)\n",
    "            print(\"idf = \", idf)\n",
    "            for j in range(len(weighted_inverted_index[i][1])):\n",
    "                tf = 1 + math.log(int(weighted_inverted_index[i][1][j][1]), 10)\n",
    "                print(\"tf = \", tf)\n",
    "                w = tf*idf\n",
    "                print(\"w : \",w)\n",
    "                weighted_inverted_index[i][1][j][1] = w\n",
    "    print(weighted_inverted_index[0])\n",
    "    print(weighted_inverted_index[1])\n",
    "\n"
   ]
  },
  {
   "cell_type": "code",
   "execution_count": 227,
   "metadata": {},
   "outputs": [
    {
     "output_type": "stream",
     "name": "stdout",
     "text": [
      "['0054', array([[6768,    3],\n       [6774,    4],\n       [6780,    4]], dtype=int64)]\nidf =  3.3679767852945943\ntf =  1.4771212547196624\nw :  4.9749100949610465\ntf =  1.6020599913279623\nw :  5.395700859441836\ntf =  1.6020599913279623\nw :  5.395700859441836\n['011', array([[4324,    3]], dtype=int64)]\nidf =  3.8450980400142565\ntf =  1.4771212547196624\nw :  5.6796760413859735\n['', array([], shape=(0, 2), dtype=float64)]\n['0054', array([[6768,    4],\n       [6774,    5],\n       [6780,    5]], dtype=int64)]\n"
     ]
    }
   ],
   "source": [
    "calculate_tfidf(df, inverted_indexes)"
   ]
  },
  {
   "cell_type": "code",
   "execution_count": 222,
   "metadata": {},
   "outputs": [
    {
     "output_type": "stream",
     "name": "stdout",
     "text": [
      "['', array([], shape=(0, 2), dtype=float64)]\n"
     ]
    }
   ],
   "source": [
    "weighted_inverted_index = inverted_indexes.copy()\n",
    "print(weighted_inverted_index[0])"
   ]
  },
  {
   "cell_type": "code",
   "execution_count": 233,
   "metadata": {},
   "outputs": [
    {
     "output_type": "stream",
     "name": "stdout",
     "text": [
      "['0054', array([[6768,    5],\n       [6774,    5],\n       [6780,    5]], dtype=int64)]\n"
     ]
    }
   ],
   "source": [
    "print(inverted_indexes[1])"
   ]
  },
  {
   "cell_type": "code",
   "execution_count": null,
   "metadata": {},
   "outputs": [],
   "source": []
  }
 ]
}